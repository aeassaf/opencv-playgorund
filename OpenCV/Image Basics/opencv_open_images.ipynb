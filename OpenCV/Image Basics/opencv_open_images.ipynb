{
 "cells": [
  {
   "cell_type": "code",
   "execution_count": null,
   "metadata": {},
   "outputs": [],
   "source": [
    "# Run this code on cmd to prevent jupyter's kernel from crashing\n",
    "# To do so, copy the code to a .py file then go to its directory on cmdand write python <scriptName\n",
    "# Do not name the .py file as a name of a library like numpy or opencv\n",
    "import cv2\n",
    "\n",
    "img = cv2.imread('../../DATA/00-puppy.jpg')\n",
    "\n",
    "cv2.imshow('Puppy', img)\n",
    "\n",
    "cv2.waitKey() # Be able to exit window\n",
    "\n",
    "# Run the readImageWithOpenCV.py to prevent crashes"
   ]
  }
 ],
 "metadata": {
  "kernelspec": {
   "display_name": "Python 3",
   "language": "python",
   "name": "python3"
  },
  "language_info": {
   "codemirror_mode": {
    "name": "ipython",
    "version": 3
   },
   "file_extension": ".py",
   "mimetype": "text/x-python",
   "name": "python",
   "nbconvert_exporter": "python",
   "pygments_lexer": "ipython3",
   "version": "3.6.6"
  }
 },
 "nbformat": 4,
 "nbformat_minor": 2
}
